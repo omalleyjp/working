{
 "cells": [
  {
   "cell_type": "code",
   "execution_count": null,
   "metadata": {},
   "outputs": [
    {
     "ename": "",
     "evalue": "",
     "output_type": "error",
     "traceback": [
      "\u001b[1;31mThe kernel failed to start as the Python Environment 'Python 3.10.12' is no longer available. Consider selecting another kernel or refreshing the list of Python Environments."
     ]
    }
   ],
   "source": [
    "import numpy as np\n",
    "import matplotlib.pyplot as plt\n",
    "\n",
    "# Data for two CSI captures as complex values (real and imaginary parts)\n",
    "csi_data_1_raw = [83, 48, 5, 0, 0, 0, 0, 0, 0, 0, 0, 0, 0, 3, -6, 3, -5, 10, 3, 4, -6, 8, -3, 6, 1, 4, -6, 6, -6, 9, -6, 7, -1, 6, -9, 12, -8, 8, -9, 9, -8, 11, -9, 11, -12, 13, -6, 12, -8, 6, -12, 5, -12, 8, -19, 11, -1, 7, -12, 9, -20, 7, -6, 4, 0, 0, -18, 0, -16, 4, -10, 0, -20, 4, -12, 7, -13, 4, -19, -3, -13, -2, -11, 4, -8, -3, -11, 4, -11, 1, -19, -8, -11, 1, -10, -4, -10, -1, -11, -4, -6, -3, -14, 0, -6, -1, -5, -5, -8, -1, -8, -12, -8, 3, -4, 2, -6, -5, 0, 0, 0, 0, 0, 0, 0, 0, 0, 0]\n",
    "csi_data_2_raw = [83, 48, 5, 0, 0, 0, 0, 0, 0, 0, 0, 0, -12, -3, -8, -2, -9, 1, -8, -4, -4, 1, -18, -6, -8, 2, -7, 5, -9, -6, -7, 0, -10, -1, -12, 4, -12, 4, -11, -5, -15, -2, -8, 4, -6, 0, -2, 5, -14, 2, -9, 8, -8, 2, -14, -1, -13, -1, -9, 6, -8, 6, -11, 8, 0, 0, -14, 8, -10, 4, -6, 8, -10, 7, -11, 5, -10, 5, -6, 11, -13, 9, -13, 9, -8, 5, 0, 9, -3, 17, -12, 9, -3, 8, 2, 5, 0, 13, -2, 6, -5, 7, -1, 11, -5, 8, -8, 4, 1, 10, 3, 4, -8, 4, -2, -3, 7, 11, 0, 0, 0, 0, 0, 0, 0, 0, 0, 0]\n",
    "\n",
    "# Convert the raw data into complex numbers\n",
    "csi_data_1_complex = np.array(csi_data_1_raw[0::2]) + 1j * np.array(csi_data_1_raw[1::2])\n",
    "csi_data_2_complex = np.array(csi_data_2_raw[0::2]) + 1j * np.array(csi_data_2_raw[1::2])\n",
    "\n",
    "# Calculate magnitudes of the CSI data\n",
    "csi_data_1_magnitudes = np.abs(csi_data_1_complex)\n",
    "csi_data_2_magnitudes = np.abs(csi_data_2_complex)\n",
    "\n",
    "# Plot the magnitudes\n",
    "plt.figure(figsize=(12, 6))\n",
    "plt.plot(csi_data_1_magnitudes, label='Capture 1')\n",
    "plt.plot(csi_data_2_magnitudes, label='Capture 2')\n",
    "plt.title('Magnitude of CSI Data Over Subcarriers')\n",
    "plt.xlabel('Subcarrier Index')\n",
    "plt.ylabel('Magnitude')\n",
    "plt.legend()  # Corrected to include parentheses\n",
    "plt.show()  # Ensure the plot is displayed\n"
   ]
  }
 ],
 "metadata": {
  "kernelspec": {
   "display_name": "plotting",
   "language": "python",
   "name": "python3"
  },
  "language_info": {
   "codemirror_mode": {
    "name": "ipython",
    "version": 3
   },
   "file_extension": ".py",
   "mimetype": "text/x-python",
   "name": "python",
   "nbconvert_exporter": "python",
   "pygments_lexer": "ipython3",
   "version": "3.10.12"
  }
 },
 "nbformat": 4,
 "nbformat_minor": 2
}
